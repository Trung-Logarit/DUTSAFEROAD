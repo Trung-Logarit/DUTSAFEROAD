{
  "cells": [
    {
      "cell_type": "markdown",
      "metadata": {
        "id": "view-in-github",
        "colab_type": "text"
      },
      "source": [
        "<a href=\"https://colab.research.google.com/github/Trung-Logarit/DUTSAFEROAD/blob/main/workshop-DLI/.ipynb_checkpoints/07_assessment-checkpoint.ipynb\" target=\"_parent\"><img src=\"https://colab.research.google.com/assets/colab-badge.svg\" alt=\"Open In Colab\"/></a>"
      ]
    },
    {
      "cell_type": "markdown",
      "metadata": {
        "id": "8zf6EjV2RKol"
      },
      "source": [
        "<center><a href=\"https://www.nvidia.com/dli\"> <img src=\"https://github.com/hongbo-wei/NVIDIA-Fundamentals-of-Deep-Learning/blob/main/workshop-DLI/.ipynb_checkpoints/images/DLI_Header.png?raw=1\" alt=\"Header\" style=\"width: 400px;\"/> </a></center>"
      ]
    },
    {
      "cell_type": "markdown",
      "metadata": {
        "id": "Mx-NqBpARKol"
      },
      "source": [
        "# 7. Assessment"
      ]
    },
    {
      "cell_type": "markdown",
      "metadata": {
        "id": "TSk2a0OgRKom"
      },
      "source": [
        "Congratulations on going through today's course! Hopefully, you've learned some valuable skills along the way and had fun doing it. Now it's time to put those skills to the test. In this assessment, you will train a new model that is able to recognize fresh and rotten fruit. You will need to get the model to a validation accuracy of `92%` in order to pass the assessment, though we challenge you to do even better if you can. You will have the use the skills that you learned in the previous exercises. Specifically, we suggest using some combination of transfer learning, data augmentation, and fine tuning. Once you have trained the model to be at least 92% accurate on the validation dataset, save your model, and then assess its accuracy. Let's get started!"
      ]
    },
    {
      "cell_type": "code",
      "source": [
        "!git clone https://github.com/hongbo-wei/NVIDIA-Fundamentals-of-Deep-Learning.git"
      ],
      "metadata": {
        "id": "IL4sA8_cRTmp",
        "outputId": "8b0cf3c7-b8e3-4c6c-aa3a-79caa8c327fb",
        "colab": {
          "base_uri": "https://localhost:8080/"
        }
      },
      "execution_count": 1,
      "outputs": [
        {
          "output_type": "stream",
          "name": "stdout",
          "text": [
            "Cloning into 'NVIDIA-Fundamentals-of-Deep-Learning'...\n",
            "remote: Enumerating objects: 1783, done.\u001b[K\n",
            "remote: Counting objects: 100% (6/6), done.\u001b[K\n",
            "remote: Compressing objects: 100% (6/6), done.\u001b[K\n",
            "remote: Total 1783 (delta 1), reused 2 (delta 0), pack-reused 1777 (from 2)\u001b[K\n",
            "Receiving objects: 100% (1783/1783), 354.77 MiB | 3.37 MiB/s, done.\n",
            "Resolving deltas: 100% (10/10), done.\n",
            "Updating files: 100% (1746/1746), done.\n"
          ]
        }
      ]
    },
    {
      "cell_type": "code",
      "source": [
        "%cd /content/NVIDIA-Fundamentals-of-Deep-Learning/workshop-DLI/"
      ],
      "metadata": {
        "id": "hU1N4VvXRsBx",
        "outputId": "23ac2218-73f6-4d36-c083-518cfba77fb9",
        "colab": {
          "base_uri": "https://localhost:8080/"
        }
      },
      "execution_count": 12,
      "outputs": [
        {
          "output_type": "stream",
          "name": "stdout",
          "text": [
            "/content/NVIDIA-Fundamentals-of-Deep-Learning/workshop-DLI\n"
          ]
        }
      ]
    },
    {
      "cell_type": "code",
      "source": [
        "!ls /content/NVIDIA-Fundamentals-of-Deep-Learning/workshop-DLI/"
      ],
      "metadata": {
        "id": "C3pSXZDETJHR",
        "outputId": "1b1c5df9-a494-4370-b220-1df9b3dd8aea",
        "colab": {
          "base_uri": "https://localhost:8080/"
        }
      },
      "execution_count": 10,
      "outputs": [
        {
          "output_type": "stream",
          "name": "stdout",
          "text": [
            "00_jupyterlab.ipynb  04a_asl_augmentation.ipynb\t\t06_nlp.ipynb\t     utils.py\n",
            "01_mnist.ipynb\t     04b_asl_predictions.ipynb\t\t07_assessment.ipynb  zip_files.ipynb\n",
            "02_asl.ipynb\t     05a_doggy_door.ipynb\t\tdata\n",
            "03_asl_cnn.ipynb     05b_presidential_doggy_door.ipynb\timages\n"
          ]
        }
      ]
    },
    {
      "cell_type": "code",
      "source": [
        "import torch\n",
        "\n",
        "print(\"CUDA available? \", torch.cuda.is_available())\n",
        "print(\"Device name:\", torch.cuda.get_device_name(0) if torch.cuda.is_available() else \"No GPU\")\n"
      ],
      "metadata": {
        "id": "f6LDsckbR1Im",
        "outputId": "76e0a91e-90de-4a90-88b6-97f3096de808",
        "colab": {
          "base_uri": "https://localhost:8080/"
        }
      },
      "execution_count": 4,
      "outputs": [
        {
          "output_type": "stream",
          "name": "stdout",
          "text": [
            "CUDA available?  True\n",
            "Device name: Tesla T4\n"
          ]
        }
      ]
    },
    {
      "cell_type": "code",
      "execution_count": 13,
      "metadata": {
        "id": "Malo3R88RKom",
        "outputId": "91d64e2a-44ba-4a94-801a-0cd2d867a8c7",
        "colab": {
          "base_uri": "https://localhost:8080/"
        }
      },
      "outputs": [
        {
          "output_type": "execute_result",
          "data": {
            "text/plain": [
              "True"
            ]
          },
          "metadata": {},
          "execution_count": 13
        }
      ],
      "source": [
        "import torch\n",
        "import torch.nn as nn\n",
        "from torch.optim import Adam\n",
        "from torch.utils.data import Dataset, DataLoader\n",
        "import torchvision.transforms.v2 as transforms\n",
        "import torchvision.io as tv_io\n",
        "\n",
        "import glob\n",
        "from PIL import Image\n",
        "\n",
        "import utils\n",
        "\n",
        "device = torch.device(\"cuda\" if torch.cuda.is_available() else \"cpu\")\n",
        "torch.cuda.is_available()"
      ]
    },
    {
      "cell_type": "markdown",
      "metadata": {
        "id": "Db5C_lpzRKon"
      },
      "source": [
        "## 7.1 The Dataset"
      ]
    },
    {
      "cell_type": "markdown",
      "metadata": {
        "id": "z_bxvOjHRKon"
      },
      "source": [
        "In this exercise, you will train a model to recognize fresh and rotten fruits. The dataset comes from [Kaggle](https://www.kaggle.com/sriramr/fruits-fresh-and-rotten-for-classification), a great place to go if you're interested in starting a project after this class. The dataset structure is in the `data/fruits` folder. There are 6 categories of fruits: fresh apples, fresh oranges, fresh bananas, rotten apples, rotten oranges, and rotten bananas. This will mean that your model will require an output layer of 6 neurons to do the categorization successfully. You'll also need to compile the model with `categorical_crossentropy`, as we have more than two categories."
      ]
    },
    {
      "cell_type": "markdown",
      "metadata": {
        "id": "uH-pUNxdRKon"
      },
      "source": [
        "<img src=\"https://github.com/hongbo-wei/NVIDIA-Fundamentals-of-Deep-Learning/blob/main/workshop-DLI/.ipynb_checkpoints/images/fruits.png?raw=1\" style=\"width: 600px;\">"
      ]
    },
    {
      "cell_type": "markdown",
      "metadata": {
        "id": "OAuV2hZ8RKon"
      },
      "source": [
        "## 7.2 Load ImageNet Base Model"
      ]
    },
    {
      "cell_type": "markdown",
      "metadata": {
        "id": "D2i3VC2NRKon"
      },
      "source": [
        "We encourage you to start with a model pretrained on ImageNet. Load the model with the correct weights. Because these pictures are in color, there will be three channels for red, green, and blue. We've filled in the input shape for you. If you need a reference for setting up the pretrained model, please take a look at [notebook 05b](05b_presidential_doggy_door.ipynb) where we implemented transfer learning."
      ]
    },
    {
      "cell_type": "code",
      "execution_count": 14,
      "metadata": {
        "id": "EoeiHcvdRKon",
        "outputId": "e8578716-1fe9-402b-c9ac-d5c40dfcf4ac",
        "colab": {
          "base_uri": "https://localhost:8080/"
        }
      },
      "outputs": [
        {
          "output_type": "stream",
          "name": "stderr",
          "text": [
            "Downloading: \"https://download.pytorch.org/models/vgg16-397923af.pth\" to /root/.cache/torch/hub/checkpoints/vgg16-397923af.pth\n",
            "100%|██████████| 528M/528M [00:03<00:00, 142MB/s]\n"
          ]
        }
      ],
      "source": [
        "from torchvision.models import vgg16\n",
        "from torchvision.models import VGG16_Weights\n",
        "\n",
        "weights = VGG16_Weights.IMAGENET1K_V1\n",
        "vgg_model = vgg16(weights=weights)"
      ]
    },
    {
      "cell_type": "markdown",
      "metadata": {
        "id": "D8aW1qAZRKon"
      },
      "source": [
        "## 7.3 Freeze Base Model"
      ]
    },
    {
      "cell_type": "markdown",
      "metadata": {
        "id": "TwHhDMh7RKoo"
      },
      "source": [
        "Next, we suggest freezing the base model, as done in [notebook 05b](05b_presidential_doggy_door.ipynb). This is done so that all the learning from the ImageNet dataset does not get destroyed in the initial training."
      ]
    },
    {
      "cell_type": "code",
      "execution_count": 15,
      "metadata": {
        "id": "lqtDSLmTRKoo",
        "outputId": "ec64ba82-5fa2-4843-b5ea-feaea0122726",
        "colab": {
          "base_uri": "https://localhost:8080/"
        }
      },
      "outputs": [
        {
          "output_type": "execute_result",
          "data": {
            "text/plain": [
              "False"
            ]
          },
          "metadata": {},
          "execution_count": 15
        }
      ],
      "source": [
        "# Freeze base model\n",
        "vgg_model.requires_grad_(False)\n",
        "next(iter(vgg_model.parameters())).requires_grad"
      ]
    },
    {
      "cell_type": "markdown",
      "metadata": {
        "id": "6pHdMwFWRKoo"
      },
      "source": [
        "## 7.4 Add Layers to Model"
      ]
    },
    {
      "cell_type": "markdown",
      "metadata": {
        "id": "v_6Da41wRKoo"
      },
      "source": [
        "Now it's time to add layers to the pretrained model. [Notebook 05b](05b_presidential_doggy_door.ipynb) can be used as a guide. Pay close attention to the last dense layer and make sure it has the correct number of neurons to classify the different types of fruit.\n",
        "\n",
        "The later layers of a model become more specific to the data the model trained on. Since we want the more general learnings from VGG, we can select parts of it, like so:"
      ]
    },
    {
      "cell_type": "code",
      "execution_count": 16,
      "metadata": {
        "id": "k8UWZYUwRKoo",
        "outputId": "bf37b20f-c732-4fd1-b66e-7ba255f9456f",
        "colab": {
          "base_uri": "https://localhost:8080/"
        }
      },
      "outputs": [
        {
          "output_type": "execute_result",
          "data": {
            "text/plain": [
              "Sequential(\n",
              "  (0): Linear(in_features=25088, out_features=4096, bias=True)\n",
              "  (1): ReLU(inplace=True)\n",
              "  (2): Dropout(p=0.5, inplace=False)\n",
              ")"
            ]
          },
          "metadata": {},
          "execution_count": 16
        }
      ],
      "source": [
        "vgg_model.classifier[0:3]"
      ]
    },
    {
      "cell_type": "markdown",
      "metadata": {
        "id": "Fb2yBtBWRKoo"
      },
      "source": [
        "Once we've taken what we've wanted from VGG16, then we can add our own modifications. No matter what additional modules we add, we still need to end with one value for each output."
      ]
    },
    {
      "cell_type": "code",
      "execution_count": 17,
      "metadata": {
        "id": "KwtsP4QgRKoo",
        "outputId": "31bddaad-732e-4022-8a42-6a6eea71f3ad",
        "colab": {
          "base_uri": "https://localhost:8080/"
        }
      },
      "outputs": [
        {
          "output_type": "execute_result",
          "data": {
            "text/plain": [
              "Sequential(\n",
              "  (0): Sequential(\n",
              "    (0): Conv2d(3, 64, kernel_size=(3, 3), stride=(1, 1), padding=(1, 1))\n",
              "    (1): ReLU(inplace=True)\n",
              "    (2): Conv2d(64, 64, kernel_size=(3, 3), stride=(1, 1), padding=(1, 1))\n",
              "    (3): ReLU(inplace=True)\n",
              "    (4): MaxPool2d(kernel_size=2, stride=2, padding=0, dilation=1, ceil_mode=False)\n",
              "    (5): Conv2d(64, 128, kernel_size=(3, 3), stride=(1, 1), padding=(1, 1))\n",
              "    (6): ReLU(inplace=True)\n",
              "    (7): Conv2d(128, 128, kernel_size=(3, 3), stride=(1, 1), padding=(1, 1))\n",
              "    (8): ReLU(inplace=True)\n",
              "    (9): MaxPool2d(kernel_size=2, stride=2, padding=0, dilation=1, ceil_mode=False)\n",
              "    (10): Conv2d(128, 256, kernel_size=(3, 3), stride=(1, 1), padding=(1, 1))\n",
              "    (11): ReLU(inplace=True)\n",
              "    (12): Conv2d(256, 256, kernel_size=(3, 3), stride=(1, 1), padding=(1, 1))\n",
              "    (13): ReLU(inplace=True)\n",
              "    (14): Conv2d(256, 256, kernel_size=(3, 3), stride=(1, 1), padding=(1, 1))\n",
              "    (15): ReLU(inplace=True)\n",
              "    (16): MaxPool2d(kernel_size=2, stride=2, padding=0, dilation=1, ceil_mode=False)\n",
              "    (17): Conv2d(256, 512, kernel_size=(3, 3), stride=(1, 1), padding=(1, 1))\n",
              "    (18): ReLU(inplace=True)\n",
              "    (19): Conv2d(512, 512, kernel_size=(3, 3), stride=(1, 1), padding=(1, 1))\n",
              "    (20): ReLU(inplace=True)\n",
              "    (21): Conv2d(512, 512, kernel_size=(3, 3), stride=(1, 1), padding=(1, 1))\n",
              "    (22): ReLU(inplace=True)\n",
              "    (23): MaxPool2d(kernel_size=2, stride=2, padding=0, dilation=1, ceil_mode=False)\n",
              "    (24): Conv2d(512, 512, kernel_size=(3, 3), stride=(1, 1), padding=(1, 1))\n",
              "    (25): ReLU(inplace=True)\n",
              "    (26): Conv2d(512, 512, kernel_size=(3, 3), stride=(1, 1), padding=(1, 1))\n",
              "    (27): ReLU(inplace=True)\n",
              "    (28): Conv2d(512, 512, kernel_size=(3, 3), stride=(1, 1), padding=(1, 1))\n",
              "    (29): ReLU(inplace=True)\n",
              "    (30): MaxPool2d(kernel_size=2, stride=2, padding=0, dilation=1, ceil_mode=False)\n",
              "  )\n",
              "  (1): AdaptiveAvgPool2d(output_size=(7, 7))\n",
              "  (2): Flatten(start_dim=1, end_dim=-1)\n",
              "  (3): Sequential(\n",
              "    (0): Linear(in_features=25088, out_features=4096, bias=True)\n",
              "    (1): ReLU(inplace=True)\n",
              "    (2): Dropout(p=0.5, inplace=False)\n",
              "  )\n",
              "  (4): Linear(in_features=4096, out_features=500, bias=True)\n",
              "  (5): ReLU()\n",
              "  (6): Linear(in_features=500, out_features=6, bias=True)\n",
              ")"
            ]
          },
          "metadata": {},
          "execution_count": 17
        }
      ],
      "source": [
        "N_CLASSES = 6\n",
        "\n",
        "my_model = nn.Sequential(\n",
        "    vgg_model.features,\n",
        "    vgg_model.avgpool,\n",
        "    nn.Flatten(),\n",
        "    vgg_model.classifier[0:3],\n",
        "    nn.Linear(4096, 500),\n",
        "    nn.ReLU(),\n",
        "    nn.Linear(500, N_CLASSES)\n",
        ")\n",
        "my_model"
      ]
    },
    {
      "cell_type": "markdown",
      "metadata": {
        "id": "Q2zELrStRKoo"
      },
      "source": [
        "## 7.5 Compile Model"
      ]
    },
    {
      "cell_type": "markdown",
      "metadata": {
        "id": "g3C9N2SkRKoo"
      },
      "source": [
        "Now it's time to compile the model with loss and metrics options. We have 6 classes, so which loss function should we use?"
      ]
    },
    {
      "cell_type": "code",
      "execution_count": 18,
      "metadata": {
        "id": "e7FId3_eRKoo"
      },
      "outputs": [],
      "source": [
        "loss_function = nn.CrossEntropyLoss()\n",
        "optimizer = Adam(my_model.parameters())\n",
        "my_model = torch.compile(my_model.to(device))"
      ]
    },
    {
      "cell_type": "markdown",
      "metadata": {
        "id": "jLrI30iMRKoo"
      },
      "source": [
        "## 7.6 Data Transforms"
      ]
    },
    {
      "cell_type": "markdown",
      "metadata": {
        "id": "MJsjBeJVRKoo"
      },
      "source": [
        "To preprocess our input images, we will use the transforms included with the VGG16 weights."
      ]
    },
    {
      "cell_type": "code",
      "execution_count": 19,
      "metadata": {
        "id": "MXcCNoaCRKoo"
      },
      "outputs": [],
      "source": [
        "pre_trans = weights.transforms()"
      ]
    },
    {
      "cell_type": "markdown",
      "metadata": {
        "id": "odvs5QDURKop"
      },
      "source": [
        "Try to randomly augment the data to improve the dataset. Feel free to look at [notebook 04a](04a_asl_augmentation.ipynb) and [notebook 05b](05b_presidential_doggy_door.ipynb) for augmentation examples. There is also documentation for the [TorchVision Transforms class](https://pytorch.org/vision/stable/transforms.html).\n",
        "\n",
        "**Hint**: Remember not to make the data augmentation too extreme."
      ]
    },
    {
      "cell_type": "code",
      "execution_count": 20,
      "metadata": {
        "id": "y07J7yCGRKop"
      },
      "outputs": [],
      "source": [
        "IMG_WIDTH, IMG_HEIGHT = (224, 224)\n",
        "\n",
        "random_trans = transforms.Compose([\n",
        "    transforms.RandomResizedCrop((IMG_WIDTH, IMG_HEIGHT), antialias=True),\n",
        "    transforms.RandomHorizontalFlip(p=0.5)\n",
        "])"
      ]
    },
    {
      "cell_type": "markdown",
      "metadata": {
        "id": "UxlA9P8ARKop"
      },
      "source": [
        "## 7.7 Load Dataset"
      ]
    },
    {
      "cell_type": "markdown",
      "metadata": {
        "id": "PdqoV1PzRKop"
      },
      "source": [
        "Now it's time to load the train and validation datasets."
      ]
    },
    {
      "cell_type": "code",
      "execution_count": 21,
      "metadata": {
        "id": "yC-RrKb_RKop"
      },
      "outputs": [],
      "source": [
        "DATA_LABELS = [\"freshapples\", \"freshbanana\", \"freshoranges\", \"rottenapples\", \"rottenbanana\", \"rottenoranges\"]\n",
        "\n",
        "class MyDataset(Dataset):\n",
        "    def __init__(self, data_dir):\n",
        "        self.imgs = []\n",
        "        self.labels = []\n",
        "\n",
        "        for l_idx, label in enumerate(DATA_LABELS):\n",
        "            data_paths = glob.glob(data_dir + label + '/*.png', recursive=True)\n",
        "            for path in data_paths:\n",
        "                img = tv_io.read_image(path, tv_io.ImageReadMode.RGB)\n",
        "                self.imgs.append(pre_trans(img).to(device))\n",
        "                self.labels.append(torch.tensor(l_idx).to(device))\n",
        "\n",
        "\n",
        "    def __getitem__(self, idx):\n",
        "        img = self.imgs[idx]\n",
        "        label = self.labels[idx]\n",
        "        return img, label\n",
        "\n",
        "    def __len__(self):\n",
        "        return len(self.imgs)"
      ]
    },
    {
      "cell_type": "markdown",
      "metadata": {
        "id": "aFxoiqlrRKop"
      },
      "source": [
        "Select the batch size `n` and set `shuffle` either to `True` or `False` depending on if we are `train`ing or `valid`ating. For a reference, check out [notebook 05b](05b_presidential_doggy_door.ipynb)."
      ]
    },
    {
      "cell_type": "code",
      "execution_count": 22,
      "metadata": {
        "id": "Z3Ojhi8ZRKop"
      },
      "outputs": [],
      "source": [
        "n = 32\n",
        "\n",
        "train_path = \"data/fruits/train/\"\n",
        "train_data = MyDataset(train_path)\n",
        "train_loader = DataLoader(train_data, batch_size=n, shuffle=True)\n",
        "train_N = len(train_loader.dataset)\n",
        "\n",
        "valid_path = \"data/fruits/valid/\"\n",
        "valid_data = MyDataset(valid_path)\n",
        "valid_loader = DataLoader(valid_data, batch_size=n, shuffle=False)\n",
        "valid_N = len(valid_loader.dataset)"
      ]
    },
    {
      "cell_type": "markdown",
      "metadata": {
        "id": "oo9cEHwVRKop"
      },
      "source": [
        "## 7.8 Train the Model"
      ]
    },
    {
      "cell_type": "markdown",
      "metadata": {
        "id": "SFKKou-MRKop"
      },
      "source": [
        "Time to train the model! We've moved the `train` and `validate` functions to our [utils.py](./utils.py) file. Before running the below, make sure all your variables are correctly defined.\n",
        "\n",
        "It may help to rerun this cell or change the number of `epochs`."
      ]
    },
    {
      "cell_type": "code",
      "execution_count": 23,
      "metadata": {
        "id": "kZ6SqKtuRKop",
        "outputId": "a9209861-c279-47b5-cd27-0faab4ef4a02",
        "colab": {
          "base_uri": "https://localhost:8080/"
        }
      },
      "outputs": [
        {
          "output_type": "stream",
          "name": "stdout",
          "text": [
            "Epoch: 0\n"
          ]
        },
        {
          "output_type": "stream",
          "name": "stderr",
          "text": [
            "W0326 16:36:14.603000 212 torch/_inductor/utils.py:1137] [0/0] Not enough SMs to use max_autotune_gemm mode\n"
          ]
        },
        {
          "output_type": "stream",
          "name": "stdout",
          "text": [
            "Train - Loss: 20.2594 Accuracy: 0.7919\n",
            "Valid - Loss: 2.1878 Accuracy: 0.9240\n",
            "Epoch: 1\n",
            "Train - Loss: 7.5566 Accuracy: 0.9247\n",
            "Valid - Loss: 2.2134 Accuracy: 0.9240\n",
            "Epoch: 2\n",
            "Train - Loss: 7.8991 Accuracy: 0.9255\n",
            "Valid - Loss: 1.2966 Accuracy: 0.9453\n",
            "Epoch: 3\n",
            "Train - Loss: 7.7081 Accuracy: 0.9272\n",
            "Valid - Loss: 1.1303 Accuracy: 0.9605\n",
            "Epoch: 4\n",
            "Train - Loss: 5.1871 Accuracy: 0.9467\n",
            "Valid - Loss: 1.1320 Accuracy: 0.9635\n",
            "Epoch: 5\n",
            "Train - Loss: 7.3374 Accuracy: 0.9298\n",
            "Valid - Loss: 1.0558 Accuracy: 0.9574\n",
            "Epoch: 6\n",
            "Train - Loss: 5.2559 Accuracy: 0.9450\n",
            "Valid - Loss: 2.4586 Accuracy: 0.9422\n",
            "Epoch: 7\n",
            "Train - Loss: 7.1020 Accuracy: 0.9306\n",
            "Valid - Loss: 0.9445 Accuracy: 0.9574\n",
            "Epoch: 8\n",
            "Train - Loss: 4.9460 Accuracy: 0.9585\n",
            "Valid - Loss: 1.5581 Accuracy: 0.9483\n",
            "Epoch: 9\n",
            "Train - Loss: 5.3231 Accuracy: 0.9459\n",
            "Valid - Loss: 1.0793 Accuracy: 0.9574\n"
          ]
        }
      ],
      "source": [
        "epochs = 10\n",
        "\n",
        "for epoch in range(epochs):\n",
        "    print('Epoch: {}'.format(epoch))\n",
        "    utils.train(my_model, train_loader, train_N, random_trans, optimizer, loss_function)\n",
        "    utils.validate(my_model, valid_loader, valid_N, loss_function)"
      ]
    },
    {
      "cell_type": "markdown",
      "metadata": {
        "id": "DmGoDTONRKop"
      },
      "source": [
        "## 7.9 Unfreeze Model for Fine Tuning"
      ]
    },
    {
      "cell_type": "markdown",
      "metadata": {
        "id": "vlZwqhx8RKop"
      },
      "source": [
        "If you have reached 92% validation accuracy already, this next step is optional. If not, we suggest fine tuning the model with a very low learning rate."
      ]
    },
    {
      "cell_type": "code",
      "execution_count": 24,
      "metadata": {
        "id": "0wk6DGILRKoq"
      },
      "outputs": [],
      "source": [
        "# Unfreeze the base model\n",
        "vgg_model.requires_grad_(True)\n",
        "optimizer = Adam(my_model.parameters(), lr=.0001)"
      ]
    },
    {
      "cell_type": "code",
      "execution_count": 25,
      "metadata": {
        "id": "QcV_8uMXRKoq",
        "outputId": "0f766812-8f08-4b0e-dd11-58f0a3bbc444",
        "colab": {
          "base_uri": "https://localhost:8080/"
        }
      },
      "outputs": [
        {
          "output_type": "stream",
          "name": "stdout",
          "text": [
            "Epoch: 0\n",
            "Train - Loss: 3.7987 Accuracy: 0.9636\n",
            "Valid - Loss: 0.8190 Accuracy: 0.9696\n"
          ]
        }
      ],
      "source": [
        "epochs = 1\n",
        "\n",
        "for epoch in range(epochs):\n",
        "    print('Epoch: {}'.format(epoch))\n",
        "    utils.train(my_model, train_loader, train_N, random_trans, optimizer, loss_function)\n",
        "    utils.validate(my_model, valid_loader, valid_N, loss_function)"
      ]
    },
    {
      "cell_type": "markdown",
      "metadata": {
        "id": "fiaIMJ3VRKoq"
      },
      "source": [
        "## 7.10 Evaluate the Model"
      ]
    },
    {
      "cell_type": "markdown",
      "metadata": {
        "id": "JkBfPXDYRKox"
      },
      "source": [
        "Hopefully, you now have a model that has a validation accuracy of 92% or higher. If not, you may want to go back and either run more epochs of training, or adjust your data augmentation.\n",
        "\n",
        "Once you are satisfied with the validation accuracy, evaluate the model by executing the following cell. The evaluate function will return a tuple, where the first value is your loss, and the second value is your accuracy. To pass, the model will need have an accuracy value of `92% or higher`."
      ]
    },
    {
      "cell_type": "code",
      "execution_count": 26,
      "metadata": {
        "id": "kW32qqXORKoy",
        "outputId": "5caacee6-104c-4adc-cffb-adfd87b6f1f4",
        "colab": {
          "base_uri": "https://localhost:8080/"
        }
      },
      "outputs": [
        {
          "output_type": "stream",
          "name": "stdout",
          "text": [
            "Valid - Loss: 0.8190 Accuracy: 0.9696\n"
          ]
        }
      ],
      "source": [
        "utils.validate(my_model, valid_loader, valid_N, loss_function)"
      ]
    },
    {
      "cell_type": "markdown",
      "metadata": {
        "id": "o0d7mMsbRKoy"
      },
      "source": [
        "## 7.11 Run the Assessment"
      ]
    },
    {
      "cell_type": "markdown",
      "metadata": {
        "id": "QUoaOZbVRKoy"
      },
      "source": [
        "To assess your model run the following two cells.\n",
        "\n",
        "**NOTE:** `run_assessment` assumes your model is named `my_model`. If for any reason you have modified these variable names, please update the names of the arguments passed to `run_assessment`."
      ]
    },
    {
      "cell_type": "code",
      "execution_count": 28,
      "metadata": {
        "id": "s8WOjltMRKoy",
        "outputId": "5f71d45d-22d2-4246-ec86-e6c38aead0b9",
        "colab": {
          "base_uri": "https://localhost:8080/",
          "height": 314
        }
      },
      "outputs": [
        {
          "output_type": "error",
          "ename": "ModuleNotFoundError",
          "evalue": "No module named 'run_assessment'",
          "traceback": [
            "\u001b[0;31m---------------------------------------------------------------------------\u001b[0m",
            "\u001b[0;31mModuleNotFoundError\u001b[0m                       Traceback (most recent call last)",
            "\u001b[0;32m<ipython-input-28-54a1f4e7483b>\u001b[0m in \u001b[0;36m<cell line: 0>\u001b[0;34m()\u001b[0m\n\u001b[0;32m----> 1\u001b[0;31m \u001b[0;32mfrom\u001b[0m \u001b[0mrun_assessment\u001b[0m \u001b[0;32mimport\u001b[0m \u001b[0mrun_assessment\u001b[0m\u001b[0;34m\u001b[0m\u001b[0;34m\u001b[0m\u001b[0m\n\u001b[0m",
            "\u001b[0;31mModuleNotFoundError\u001b[0m: No module named 'run_assessment'",
            "",
            "\u001b[0;31m---------------------------------------------------------------------------\u001b[0;32m\nNOTE: If your import is failing due to a missing package, you can\nmanually install dependencies using either !pip or !apt.\n\nTo view examples of installing some common dependencies, click the\n\"Open Examples\" button below.\n\u001b[0;31m---------------------------------------------------------------------------\u001b[0m\n"
          ],
          "errorDetails": {
            "actions": [
              {
                "action": "open_url",
                "actionText": "Open Examples",
                "url": "/notebooks/snippets/importing_libraries.ipynb"
              }
            ]
          }
        }
      ],
      "source": [
        "from run_assessment import run_assessment"
      ]
    },
    {
      "cell_type": "code",
      "execution_count": 27,
      "metadata": {
        "id": "krhyNH4ORKoy",
        "outputId": "5551e14b-a4bc-43f4-baf2-09d841b7e300",
        "colab": {
          "base_uri": "https://localhost:8080/",
          "height": 141
        }
      },
      "outputs": [
        {
          "output_type": "error",
          "ename": "NameError",
          "evalue": "name 'run_assessment' is not defined",
          "traceback": [
            "\u001b[0;31m---------------------------------------------------------------------------\u001b[0m",
            "\u001b[0;31mNameError\u001b[0m                                 Traceback (most recent call last)",
            "\u001b[0;32m<ipython-input-27-9c2b239178df>\u001b[0m in \u001b[0;36m<cell line: 0>\u001b[0;34m()\u001b[0m\n\u001b[0;32m----> 1\u001b[0;31m \u001b[0mrun_assessment\u001b[0m\u001b[0;34m(\u001b[0m\u001b[0mmy_model\u001b[0m\u001b[0;34m)\u001b[0m\u001b[0;34m\u001b[0m\u001b[0;34m\u001b[0m\u001b[0m\n\u001b[0m",
            "\u001b[0;31mNameError\u001b[0m: name 'run_assessment' is not defined"
          ]
        }
      ],
      "source": [
        "run_assessment(my_model)"
      ]
    },
    {
      "cell_type": "markdown",
      "metadata": {
        "id": "1rmMbFITRKoy"
      },
      "source": [
        "## 7.12 Generate a Certificate"
      ]
    },
    {
      "cell_type": "markdown",
      "metadata": {
        "id": "JSARdL3cRKoy"
      },
      "source": [
        "If you passed the assessment, please return to the course page (shown below) and click the \"ASSESS TASK\" button, which will generate your certificate for the course."
      ]
    },
    {
      "cell_type": "markdown",
      "metadata": {
        "id": "BOZ4AJPZRKoy"
      },
      "source": [
        "<img src=\"https://github.com/hongbo-wei/NVIDIA-Fundamentals-of-Deep-Learning/blob/main/workshop-DLI/.ipynb_checkpoints/images/assess_task.png?raw=1\" style=\"width: 800px;\">"
      ]
    },
    {
      "cell_type": "markdown",
      "metadata": {
        "id": "7TxdjqduRKoy"
      },
      "source": [
        "<center><a href=\"https://www.nvidia.com/dli\"> <img src=\"https://github.com/hongbo-wei/NVIDIA-Fundamentals-of-Deep-Learning/blob/main/workshop-DLI/.ipynb_checkpoints/images/DLI_Header.png?raw=1\" alt=\"Header\" style=\"width: 400px;\"/> </a></center>"
      ]
    }
  ],
  "metadata": {
    "kernelspec": {
      "display_name": "Python 3",
      "name": "python3"
    },
    "language_info": {
      "codemirror_mode": {
        "name": "ipython",
        "version": 3
      },
      "file_extension": ".py",
      "mimetype": "text/x-python",
      "name": "python",
      "nbconvert_exporter": "python",
      "pygments_lexer": "ipython3",
      "version": "3.10.12"
    },
    "colab": {
      "provenance": [],
      "toc_visible": true,
      "gpuType": "T4",
      "include_colab_link": true
    },
    "accelerator": "GPU"
  },
  "nbformat": 4,
  "nbformat_minor": 0
}